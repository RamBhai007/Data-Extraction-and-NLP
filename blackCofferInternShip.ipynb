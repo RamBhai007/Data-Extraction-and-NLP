{
  "nbformat": 4,
  "nbformat_minor": 0,
  "metadata": {
    "colab": {
      "provenance": [],
      "authorship_tag": "ABX9TyOT9Y2O1nL9wMfryehERGWC",
      "include_colab_link": true
    },
    "kernelspec": {
      "name": "python3",
      "display_name": "Python 3"
    },
    "language_info": {
      "name": "python"
    }
  },
  "cells": [
    {
      "cell_type": "markdown",
      "metadata": {
        "id": "view-in-github",
        "colab_type": "text"
      },
      "source": [
        "<a href=\"https://colab.research.google.com/github/RamBhai007/Data-Extraction-and-NLP/blob/main/blackCofferInternShip.ipynb\" target=\"_parent\"><img src=\"https://colab.research.google.com/assets/colab-badge.svg\" alt=\"Open In Colab\"/></a>"
      ]
    },
    {
      "cell_type": "code",
      "source": [
        "from google.colab import drive\n",
        "drive.mount('/content/drive')\n",
        "import pandas as pd\n",
        "import requests\n",
        "from bs4 import BeautifulSoup\n",
        "import os\n",
        "import re\n",
        "import nltk\n",
        "from nltk.tokenize import word_tokenize\n",
        "from nltk.corpus import stopwords\n",
        "nltk.download('punkt')\n",
        "nltk.download('stopwords')\n",
        "\n",
        "input_path ='/content/drive/MyDrive/BlackCofferInternShip/Input.xlsx'\n",
        "stopwords_path = '/content/drive/MyDrive/BlackCofferInternShip/StopWords'\n",
        "master_path = '/content/drive/MyDrive/BlackCofferInternShip/MasterDictionary'\n",
        "text_path = '/content/drive/MyDrive/BlackCofferInternShip/text'\n",
        "output_path='/content/drive/MyDrive/BlackCofferInternShip/Output Data Structure.xlsx'\n",
        "\n",
        "input_df = pd.read_excel(input_path)\n",
        "\n",
        "for index,row in input_df.iterrows():\n",
        "  url_id= row['URL_ID']\n",
        "  url = row['URL']\n",
        "\n",
        "  try:\n",
        "    response = requests.get(url)\n",
        "  except:\n",
        "    print(\"can't get response of {}\".format(url_id))\n",
        "  try:\n",
        "    soup = BeautifulSoup(response.content, 'html.parser')\n",
        "  except:\n",
        "    print(\"can't get page of {}\".format(url_id))\n",
        "  try:\n",
        "    title = soup.find('h1').get_text()\n",
        "  except:\n",
        "    print(\"can't get title of {}\".format(url_id))\n",
        "    continue\n",
        "  article = \"\"\n",
        "  try:\n",
        "    for p in soup.find_all('p'):\n",
        "      article += p.get_text()\n",
        "  except:\n",
        "    print(\"can't get text of {}\".format(url_id))\n",
        "\n",
        "  text_name = '/content/drive/MyDrive/BlackCofferInternShip/text/' + str(url_id) + '.txt'\n",
        "  with open(text_name, 'w') as file:\n",
        "    file.write(title + '\\n' + article)\n"
      ],
      "metadata": {
        "colab": {
          "base_uri": "https://localhost:8080/"
        },
        "id": "wVJkd1r3NG5V",
        "outputId": "81f1f96d-44b9-4144-859b-5e58ed2ba28b"
      },
      "execution_count": null,
      "outputs": [
        {
          "output_type": "stream",
          "name": "stdout",
          "text": [
            "Drive already mounted at /content/drive; to attempt to forcibly remount, call drive.mount(\"/content/drive\", force_remount=True).\n"
          ]
        },
        {
          "output_type": "stream",
          "name": "stderr",
          "text": [
            "[nltk_data] Downloading package punkt to /root/nltk_data...\n",
            "[nltk_data]   Package punkt is already up-to-date!\n",
            "[nltk_data] Downloading package stopwords to /root/nltk_data...\n",
            "[nltk_data]   Package stopwords is already up-to-date!\n"
          ]
        },
        {
          "output_type": "stream",
          "name": "stdout",
          "text": [
            "can't get title of 44.0\n",
            "can't get title of 57.0\n",
            "can't get title of 144.0\n"
          ]
        }
      ]
    },
    {
      "cell_type": "code",
      "source": [
        "stop_words = set()\n",
        "pos_words  = set()\n",
        "neg_words  = set()\n",
        "\n",
        "for files in os.listdir(stopwords_path):\n",
        "  with open(os.path.join(stopwords_path,files),'r',encoding='ISO-8859-1') as f:\n",
        "    stop_words.update(set(f.read().splitlines()))\n",
        "\n",
        "for files in os.listdir(master_path):\n",
        "  if files =='positive-words.txt':\n",
        "    with open(os.path.join(master_path,files),'r',encoding='ISO-8859-1') as f:\n",
        "      pos_words.update(f.read().splitlines())\n",
        "  else:\n",
        "    with open(os.path.join(master_path,files),'r',encoding='ISO-8859-1') as f:\n",
        "      neg_words.update(f.read().splitlines())"
      ],
      "metadata": {
        "id": "f1mdI2qjP418"
      },
      "execution_count": null,
      "outputs": []
    },
    {
      "cell_type": "code",
      "source": [
        "docs=[]\n",
        "\n",
        "for text_file in os.listdir(text_path):\n",
        "  with open(os.path.join(text_path,text_file),'r') as f:\n",
        "    text = f.read()\n",
        "    words = word_tokenize(text)\n",
        "    filtered_text = [word for word in words if word.lower() not in stop_words]\n",
        "    docs.append(filtered_text)"
      ],
      "metadata": {
        "id": "RiWf3uFDaHwH"
      },
      "execution_count": null,
      "outputs": []
    },
    {
      "cell_type": "code",
      "source": [
        "positive_words=[]\n",
        "negative_words=[]\n",
        "positive_Score=[]\n",
        "negative_Score=[]\n",
        "polarity_Score=[]\n",
        "subjectivity_Score=[]\n",
        "\n",
        "for i in range(len(docs)):\n",
        "  positive_words.append([word for word in docs[i] if word.lower() in pos_words])\n",
        "  negative_words.append([word for word in docs[i] if word.lower() in neg_words])\n",
        "  positive_Score.append(len(positive_words[i]))\n",
        "  negative_Score.append(len(negative_words[i]))\n",
        "  polarity_Score.append((positive_Score[i] - negative_Score[i]) / ((positive_Score[i] + negative_Score[i]) + 0.000001))\n",
        "  subjectivity_Score.append((positive_Score[i] + negative_Score[i]) / ((len(docs[i])) + 0.000001))\n"
      ],
      "metadata": {
        "id": "ciyfAtHLjX26"
      },
      "execution_count": null,
      "outputs": []
    },
    {
      "cell_type": "code",
      "source": [
        "\n",
        "def measure(file):\n",
        "  with open(os.path.join(text_path, file),'r') as f:\n",
        "    text = f.read()\n",
        "    text = re.sub(r'[^\\w\\s.]','',text)\n",
        "    sentences = text.split('.')\n",
        "    num_of_sentences = len(sentences)\n",
        "    words = [word  for word in text.split() if word.lower() not in stop_words ]\n",
        "    num_of_words = len(words)\n",
        "\n",
        "    complex_words=[]\n",
        "    for word in words:\n",
        "      vowels = 'aeiou'\n",
        "      vowel_count = sum( 1 for letter in word if letter.lower() in vowels)\n",
        "      if vowel_count > 2:\n",
        "        complex_words.append(word)\n",
        "\n",
        "    syllable_count = 0\n",
        "    syllable_words = []\n",
        "\n",
        "    for word in words:\n",
        "      if word.endswith('es') or word.endswith('ed'):\n",
        "        word = word[:-2]\n",
        "      vowels = 'aeiou'\n",
        "      syllable_count_word = sum(1 for letter in word if letter.lower() in vowels)\n",
        "      if syllable_count_word > 2:\n",
        "        syllable_words.append(word)\n",
        "        syllable_count += syllable_count_word\n",
        "\n",
        "    avg_sentence_len = num_of_words / num_of_sentences\n",
        "    avg_syllable_word_count = syllable_count / len(syllable_words)\n",
        "    Percent_Complex_words  =  len(complex_words) / num_of_words\n",
        "    Fog_Index = 0.4 * (avg_sentence_len + Percent_Complex_words)\n",
        "\n",
        "    return avg_sentence_len, Percent_Complex_words, Fog_Index, len(complex_words),avg_syllable_word_count\n"
      ],
      "metadata": {
        "id": "ljsezLmhlhGK"
      },
      "execution_count": null,
      "outputs": []
    },
    {
      "cell_type": "code",
      "source": [
        "avg_sentence_length = []\n",
        "Percentage_of_Complex_words  =  []\n",
        "Fog_Index = []\n",
        "complex_word_count =  []\n",
        "avg_syllable_word_count =[]\n",
        "\n",
        "for file in os.listdir(text_path):\n",
        "  avglen,com,fog,len_com,avgcount = measure(file)\n",
        "  avg_sentence_length.append(avglen)\n",
        "  Percentage_of_Complex_words.append(com)\n",
        "  Fog_Index.append(fog)\n",
        "  complex_word_count.append(len_com)\n",
        "  avg_syllable_word_count.append(avgcount)\n"
      ],
      "metadata": {
        "id": "aQkLJ_mNpk_6"
      },
      "execution_count": null,
      "outputs": []
    },
    {
      "cell_type": "code",
      "source": [
        "def cleaned_words(file):\n",
        "  with open(os.path.join(text_path,file), 'r') as f:\n",
        "    text = f.read()\n",
        "    text = re.sub(r'[^\\w\\s]', '' , text)\n",
        "    words = [word  for word in text.split() if word.lower() not in stop_words]\n",
        "    length = sum(len(word) for word in words)\n",
        "    average_word_length = length / len(words)\n",
        "  return len(words),average_word_length"
      ],
      "metadata": {
        "id": "AEaCYr3KqofD"
      },
      "execution_count": null,
      "outputs": []
    },
    {
      "cell_type": "code",
      "source": [
        "word_count = []\n",
        "average_word_length = []\n",
        "for file in os.listdir(text_path):\n",
        "  word,wordlen = cleaned_words(file)\n",
        "  word_count.append(word)\n",
        "  average_word_length.append(wordlen)\n"
      ],
      "metadata": {
        "id": "kixxFnLNq_-4"
      },
      "execution_count": null,
      "outputs": []
    },
    {
      "cell_type": "code",
      "source": [
        "def count_personal_pronouns(file):\n",
        "  with open(os.path.join(text_path,file), 'r') as f:\n",
        "    text = f.read()\n",
        "    personal_pronouns = [\"I\", \"we\", \"my\", \"ours\", \"us\", \"he\", \"she\"]\n",
        "    count = 0\n",
        "    for pronoun in personal_pronouns:\n",
        "      count += len(re.findall(r\"\\b\" + pronoun + r\"\\b\", text)) \n",
        "  return count"
      ],
      "metadata": {
        "id": "OuXNAgHtrWBS"
      },
      "execution_count": null,
      "outputs": []
    },
    {
      "cell_type": "code",
      "source": [
        "pp_count = []\n",
        "for file in os.listdir(text_path):\n",
        "  x = count_personal_pronouns(file)\n",
        "  pp_count.append(x)"
      ],
      "metadata": {
        "id": "dzXJ8sgVr-Hb"
      },
      "execution_count": null,
      "outputs": []
    },
    {
      "cell_type": "code",
      "source": [
        "variables = [positive_Score,negative_Score,polarity_Score,subjectivity_Score,avg_sentence_length,\n",
        "Percentage_of_Complex_words,Fog_Index,avg_sentence_length,complex_word_count,\n",
        "word_count,avg_syllable_word_count,pp_count,average_word_length]\n",
        "\n",
        "output_df=pd.read_excel(output_path)\n",
        "output_df.drop([44-37,57-37,144-37], axis = 0, inplace=True)"
      ],
      "metadata": {
        "id": "4Bdq_loVsH4M"
      },
      "execution_count": null,
      "outputs": []
    },
    {
      "cell_type": "code",
      "source": [
        "for i, var in enumerate(variables):\n",
        "    output_df.iloc[:,i+2] = var\n",
        "\n",
        "output_df.to_csv('/content/drive/MyDrive/BlackCofferInternShip/output/Output_Data.csv', index=False)"
      ],
      "metadata": {
        "id": "sPOw8qjFsezK"
      },
      "execution_count": null,
      "outputs": []
    }
  ]
}